{
 "cells": [
  {
   "cell_type": "markdown",
   "metadata": {},
   "source": [
    "# PROYEK SAINS DATA PREDIKSI PRODUKSI PADI KOTA SURABAYA MENGGUNAKAN DATA CUACA UNTUK MENSTABILKAN KETAHANAN PANGAN\n"
   ]
  },
  {
   "cell_type": "markdown",
   "metadata": {},
   "source": [
    "# Bisnis Understanding\n"
   ]
  },
  {
   "cell_type": "markdown",
   "metadata": {},
   "source": [
    "## 1. Pendahuluan\n"
   ]
  },
  {
   "cell_type": "markdown",
   "metadata": {},
   "source": [
    "Dinas ketahanan pangan dan pertanian kota surabaya dengan visi “Gotong Royong Menuju Surabaya Kota Dunia yang Maju, Humanis dan Berkelanjutan”, memiliki misi untuk mendorong terwujudnya ketersediaan dan pola konsumsi pangan yang beragam, bergizi, seimbang dan aman, tentu memiliki banyak tantangan dalam menjaga ketahanan pangan salah satunya masalah produksi.\n",
    "\n",
    "Aspek ketersediaan pangan berkaitan erat dengan jumlah penduduk di suatu wilayah. Dengan karakteristik wilayah perkotaan yang memiliki penduduk dengan jumlah tinggi dan sektor basis perekonomian berada pada industri dan perdagangan, maka ketergantungan akan distribusi pangan di suatu kota dari daerah disekitarnya sangat tinggi. Kota Surabaya sudah selayaknya memiliki pengaturan ketersediaan pangan tidak hanya berkaitan dengan efisiensi pemanfaatan lahan perkarangan atau sejenisnya namun juga pengaturan distribusi pangan dan kelembagaan yang ada di masyarakat. Berdasarkan data Badan Pusat Statistik Kota Surabaya tahun 2022, disebutkan bahwa jumlah penduduk Kota Surabaya Tahun 2021 sebesar 2,88 juta jiwa dengan laju pertumbuhan sebesar 0,28%. Sementara Pola penggunaan lahan didominasi oleh Kawasan Industri sebesar 9,88%, Kawasan Perumahan dan permukiman, perdagangan dan jasa dll.\n",
    "\n",
    "Berdasarkan data Pewali Kota surabaya tahun 2023, produksi pangan utama di daerah surabaya berdasarkan data dari tahun 2018- 2023 dicantumkan bahwa tanaman pangan utama yang tersedia di kota surabaya yaitu padi dan jagung, Sementara tantangan yang dihadapi kota surabaya adalah lahan pertanian yang dari tahun ke tahun semakin menyusut dikarenakan banyaknya pembangunan infrastruktur.\n",
    "\n",
    "Dalam produksi padi, perubahan iklim menjadi salah satu tantangan utama, Fenomena cuaca ekstrem seperti peningkatan suhu, perubahan pola curah hujan, dan durasi penyinaran matahari berdampak pada siklus pertanian dan produktivitas padi, sehingga penentuan musim tanam yang tepat menjadi langkah penting dalam menghadapi perubahan iklim ini, penentuan musim tanam yang tepat menjadi langkah penting dalam menghadapi perubahan iklim ini, Namun, mayoritas petani belum memanfaatkan kalender tanam yang disarankan pemerintah, melainkan lebih mengandalkan pengalaman pribadi untuk menentukan waktu tanam,\n",
    "\n",
    "Fenomena kerusakan tanaman padi akibat perubahan iklim menunjukkan adanya penentuan waktu penanaman padi yang tepat sehingga produksi padi tetap stabil dan tidak terjadi penurunan produksi yang mengakibatkan ketahanan pangan daerah surabaya menurun.\n",
    "\n",
    "Pada penelitian ini peneliti lebih membahas pada bidang Data mining. Data mining sendiri merupakan bidang berkembang dari Machine Learning(ML) yang berfokus pada pemanfaatan program untuk membantu manusia belajar dari data, untuk menghasilkan “insight” dari data yang ada sehingga dapat mendatangkan pengetahuan baru.\n",
    "\n",
    "Percobaan yang dilakukan peneliti adalah dengan melakukan analisis cuaca sebagai estimasi produksi padi, dari latar belakang diatas muncullah ide tentang penggunaan metode prediksi data mining dengan menggunakan library “skicit learn” untuk mengatasi masalah produksi padi.\n"
   ]
  },
  {
   "cell_type": "markdown",
   "metadata": {},
   "source": [
    "## 2. Rumusan Masalah\n"
   ]
  },
  {
   "cell_type": "markdown",
   "metadata": {},
   "source": [
    "Berdasarkan data dari “Badan Pusat Statistic Nasional” provinsi jawa timur, kota surabaya menjadi kota dengan produksi beras terbawah untuk provinsi jawa timur pada 5 tahun terakhir, sedangkan sumber produksi pangan utama untuk daerah surabaya yaitu padi, yang menyebabkan ketahanan pangan surabaya menurun\n"
   ]
  },
  {
   "cell_type": "markdown",
   "metadata": {},
   "source": [
    "## 3. Tujuan dan Manfaat\n"
   ]
  },
  {
   "cell_type": "markdown",
   "metadata": {},
   "source": [
    "Adapun tujuan dari proyek sains data ini sebagai berikut :\n",
    "\n",
    "1. Menerapkan model prediksi berbasis data mining untuk membantu pemerintah kota surabaya dalam optimalisasi produksi padi\n",
    "\n",
    "Manfaat dari proyek sains data ini yaitu :\n",
    "\n",
    "1. Dengan prediksi yang akurat, pemerintah surabaya dapat mengalokasikan anggaran secara lebih efektif untuk program-program pertanian, seperti penyediaan bibit unggul, pupuk subsidi, atau pembangunan infrastruktur pertanian.\n",
    "2. Prediksi dapat membantu pemerintah surabaya mengantisipasi potensi krisis pangan akibat gagal panen atau penurunan produksi.\n",
    "3. Dengan data prediksi, pemerintah dapat menjaga stabilitas pasokan pangan, sehingga harga pangan daerah surabaya dapat terkendali.\n"
   ]
  }
 ],
 "metadata": {
  "language_info": {
   "name": "python"
  }
 },
 "nbformat": 4,
 "nbformat_minor": 2
}
